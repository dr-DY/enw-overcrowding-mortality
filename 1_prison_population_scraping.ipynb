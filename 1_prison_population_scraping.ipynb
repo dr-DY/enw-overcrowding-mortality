{
 "cells": [
  {
   "cell_type": "code",
   "execution_count": null,
   "metadata": {},
   "outputs": [],
   "source": [
    "import os\n",
    "from functions.processing_data_functions import combine_prison_data"
   ]
  },
  {
   "cell_type": "code",
   "execution_count": null,
   "metadata": {},
   "outputs": [],
   "source": [
    "# Example of combining data from a directory\n",
    "print(\"\\nScraping data from MoJ monthly publications in 2012-2025:\")\n",
    "directory = os.path.dirname(r'Data\\Capacity_monthly')\n",
    "try:\n",
    "    combined_data = combine_prison_data(directory)\n",
    "    print(f\"Successfully combined data from {len(combined_data['Report_Date'].unique())} different reports\")\n",
    "    print(f\"Total rows in combined data: {len(combined_data)}\")\n",
    "    print(f\"Sample of combined data:\")\n",
    "    print(combined_data.head())\n",
    "    \n",
    "    # Show which months are covered\n",
    "    if 'Report_Date' in combined_data.columns:\n",
    "        dates = combined_data['Report_Date'].unique()\n",
    "        dates.sort()\n",
    "        print(f\"Reports cover the following dates: {', '.join(str(date) for date in dates)}\")\n",
    "except Exception as e:\n",
    "    print(f\"Error combining data: {str(e)}\")"
   ]
  }
 ],
 "metadata": {
  "kernelspec": {
   "display_name": "base",
   "language": "python",
   "name": "python3"
  },
  "language_info": {
   "codemirror_mode": {
    "name": "ipython",
    "version": 3
   },
   "file_extension": ".py",
   "mimetype": "text/x-python",
   "name": "python",
   "nbconvert_exporter": "python",
   "pygments_lexer": "ipython3",
   "version": "3.12.3"
  }
 },
 "nbformat": 4,
 "nbformat_minor": 4
}
