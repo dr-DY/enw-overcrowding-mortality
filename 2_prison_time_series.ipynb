{
 "cells": [
  {
   "cell_type": "code",
   "execution_count": null,
   "id": "08db9d87",
   "metadata": {},
   "outputs": [],
   "source": [
    "import pandas as pd\n",
    "import matplotlib.pyplot as plt\n",
    "import seaborn as sns\n",
    "from pathlib import Path\n",
    "import os\n",
    "\n",
    "from functions.processing_data_functions import create_prison_time_series\n",
    "from functions.visualisation_scraped_data_functions import create_visualizations"
   ]
  },
  {
   "cell_type": "code",
   "execution_count": null,
   "id": "e8c60e55",
   "metadata": {},
   "outputs": [],
   "source": [
    "# Set up paths\n",
    "data_path = Path(\"Output/combined_prison_data.csv\")\n",
    "output_dir = Path(\"Output\")\n",
    "output_dir.mkdir(exist_ok=True)\n",
    "\n",
    "# Create the time series data\n",
    "print(f\"Generating time series from {data_path}...\")\n",
    "time_series_df = create_prison_time_series(data_path, exclude_months='2013-03')\n",
    "\n",
    "# Display the first few rows\n",
    "print(\"\\nTime Series Data (first 50 rows):\")\n",
    "print(time_series_df.head(50))\n",
    "\n",
    "# Save the time series data to a CSV file\n",
    "output_file = output_dir / \"prison_time_series_monthly.csv\"\n",
    "time_series_df.to_csv(output_file, index=False)\n",
    "print(f\"\\nSaved time series data to {output_file}\")\n",
    "\n",
    "# Generate visualizations\n",
    "create_visualizations(time_series_df, output_dir)\n",
    "\n",
    "print(\"\\nTime series generation complete!\")"
   ]
  }
 ],
 "metadata": {
  "kernelspec": {
   "display_name": "base",
   "language": "python",
   "name": "python3"
  },
  "language_info": {
   "codemirror_mode": {
    "name": "ipython",
    "version": 3
   },
   "file_extension": ".py",
   "mimetype": "text/x-python",
   "name": "python",
   "nbconvert_exporter": "python",
   "pygments_lexer": "ipython3",
   "version": "3.12.3"
  }
 },
 "nbformat": 4,
 "nbformat_minor": 5
}
